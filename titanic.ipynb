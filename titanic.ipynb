{
  "cells": [
    {
      "cell_type": "code",
      "execution_count": 37,
      "metadata": {
        "id": "v1wGgj2Z0Hfc"
      },
      "outputs": [],
      "source": [
        "import numpy as np\n",
        "import torch\n",
        "import pandas as pd\n",
        "import math\n",
        "import csv\n"
      ]
    },
    {
      "cell_type": "code",
      "execution_count": 38,
      "metadata": {
        "id": "Pg79TioD2bly"
      },
      "outputs": [],
      "source": [
        "#Handling Missing values\n",
        "df=pd.read_csv(\"/content/train.csv\")\n",
        "mean=df[\"Age\"].mean()\n",
        "df[\"Age\"].fillna(mean,inplace=True)\n",
        "mode=df['Embarked'].mode()[0]\n",
        "df[\"Embarked\"].fillna(mode,inplace=True)\n",
        "\n",
        "#Encoding categorical variables\n",
        "gender={'male':1,'female':0}\n",
        "df['Sex']=df['Sex'].map(gender)\n",
        "\n",
        "embarked={'C':0,'Q':1,'S':2}\n",
        "df['Embarked']=df['Embarked'].map(embarked)\n",
        "\n",
        "df['FamilySize']=df['Parch']+df['SibSp']+1\n",
        "\n",
        "# df['Cabin'].fillna(0, inplace=True)\n",
        "df['Cabin'] = df['Cabin'].apply(lambda x: 0 if pd.isnull(x) else 1)\n",
        "\n",
        "# age_bins = [0, 5, 18, 30, 50, float('inf')]  # Define the age bins\n",
        "# age_labels = [0,1,2,3,4]  # Define the labels for each category\n",
        "# df['Age'] = pd.cut(df['Age'], bins=age_bins, labels=age_labels)\n",
        "#Removing unnecessary columns\n",
        "x=df.drop(['PassengerId','Survived','Ticket','Name'],axis=1)\n",
        "y=df['Survived']\n",
        "\n",
        "X=x.values\n",
        "Y=y.values\n",
        "\n",
        "X_t=torch.tensor(X,dtype=torch.float32)\n",
        "Y_t=torch.tensor(Y,dtype=torch.float32)"
      ]
    },
    {
      "cell_type": "code",
      "execution_count": 39,
      "metadata": {
        "id": "WOP_hvJ5DkyR"
      },
      "outputs": [],
      "source": [
        "df=pd.read_csv(\"/content/test.csv\")\n",
        "\n",
        "df[\"Age\"].fillna(df[\"Age\"].mean(),inplace=True)\n",
        "df[\"Embarked\"].fillna(df['Embarked'].mode()[0],inplace=True)\n",
        "\n",
        "#Encoding categorical variables\n",
        "df['Sex']=df['Sex'].map(gender)\n",
        "\n",
        "df['Embarked']=df['Embarked'].map(embarked)\n",
        "\n",
        "df['FamilySize']=df['Parch']+df['SibSp']+1\n",
        "\n",
        "# df['Cabin'].fillna(0, inplace=True)\n",
        "df['Cabin'] = df['Cabin'].apply(lambda x: 0 if pd.isnull(x) else 1)\n",
        "\n",
        "# df['Age'] = pd.cut(df['Age'], bins=age_bins, labels=age_labels)\n",
        "\n",
        "#Removing unnecessary columns\n",
        "x=df.drop(['PassengerId','Ticket','Name'],axis=1)\n",
        "X_test=x.values\n",
        "X_test_t=torch.tensor(X_test,dtype=torch.float32)"
      ]
    },
    {
      "cell_type": "markdown",
      "metadata": {
        "id": "sGw4oLjy5TGJ"
      },
      "source": [
        "Logistic Regression"
      ]
    },
    {
      "cell_type": "code",
      "execution_count": 40,
      "metadata": {
        "id": "Xf6zdTq95SI3"
      },
      "outputs": [],
      "source": [
        "class LogisticRegression1():\n",
        "  def __init__(self,learning_rate,iterations,x):\n",
        "    self.weights=np.zeros((x.shape[1],1))\n",
        "    self.bias=0\n",
        "    self.rate=learning_rate\n",
        "    self.iterations=iterations\n",
        "  def sigmoid(self,x):\n",
        "    return (1/(1+np.exp(-x)))\n",
        "\n",
        "  def train(self,x,y):\n",
        "    w_sq=0\n",
        "    b_sq=0\n",
        "    ro=0.9\n",
        "    for i in range(self.iterations):\n",
        "      z=np.dot(x,self.weights)+self.bias\n",
        "      y_pred=self.sigmoid(z)\n",
        "\n",
        "      dw=np.dot(x.T,(y_pred-y.reshape((y.shape[0],1))))/x.shape[0]\n",
        "      db=np.sum(y_pred-y)/x.shape[0]\n",
        "      w_sq=ro*w_sq+(1-ro)*(dw*dw)\n",
        "      b_sq=ro*b_sq+(1-ro)*(db*db)\n",
        "      self.weights=self.weights-(self.rate*dw/(np.sqrt(w_sq + 0.001)))\n",
        "      self.bias=self.bias-(self.rate*db/(math.sqrt(b_sq + 0.001)))\n",
        "      loss=-(y*np.log(y_pred)+(1-y)*np.log(1-y_pred))/y.shape[0]\n",
        "    print(np.mean(loss))\n",
        "\n",
        "  def test(self,x):\n",
        "    z=np.dot(x,self.weights)+self.bias\n",
        "    y_pred=self.sigmoid(z)\n",
        "    y_pred_final=np.where(y_pred>=0.5,1,0)\n",
        "    return y_pred_final"
      ]
    },
    {
      "cell_type": "code",
      "execution_count": 41,
      "metadata": {
        "colab": {
          "base_uri": "https://localhost:8080/"
        },
        "id": "H5nGjrQxCNp_",
        "outputId": "7c0ae379-454b-4228-dcc6-63bcbd3e0ba3"
      },
      "outputs": [
        {
          "output_type": "stream",
          "name": "stdout",
          "text": [
            "0.001115604154734858\n"
          ]
        },
        {
          "output_type": "execute_result",
          "data": {
            "text/plain": [
              "array([[0, 0, 0, 0, 1, 0, 1, 0, 1, 0, 0, 0, 1, 0, 1, 1, 0, 0, 1, 1, 0, 0,\n",
              "        1, 0, 1, 0, 1, 0, 0, 0, 0, 0, 0, 0, 0, 0, 1, 1, 0, 0, 0, 0, 0, 1,\n",
              "        1, 0, 0, 0, 1, 0, 0, 0, 1, 1, 0, 0, 0, 0, 0, 1, 0, 0, 0, 1, 0, 1,\n",
              "        1, 0, 0, 1, 1, 0, 1, 0, 1, 1, 0, 1, 0, 1, 0, 0, 0, 0, 0, 0, 1, 1,\n",
              "        1, 0, 1, 0, 1, 0, 0, 0, 1, 0, 1, 0, 1, 0, 0, 0, 1, 0, 0, 0, 0, 0,\n",
              "        0, 1, 1, 1, 1, 0, 0, 1, 0, 1, 1, 0, 1, 0, 0, 1, 0, 0, 0, 0, 0, 0,\n",
              "        0, 0, 0, 0, 0, 0, 1, 0, 0, 1, 0, 0, 0, 0, 0, 0, 0, 0, 1, 0, 0, 0,\n",
              "        0, 0, 1, 1, 0, 1, 1, 0, 1, 0, 0, 1, 0, 0, 1, 1, 0, 0, 0, 0, 0, 1,\n",
              "        1, 0, 1, 1, 0, 0, 1, 0, 1, 0, 1, 0, 0, 0, 0, 0, 0, 0, 0, 0, 1, 1,\n",
              "        0, 1, 1, 0, 0, 1, 0, 0, 1, 0, 1, 0, 0, 0, 0, 0, 0, 0, 1, 0, 1, 0,\n",
              "        1, 0, 1, 0, 1, 1, 0, 1, 0, 0, 0, 1, 0, 0, 0, 0, 0, 0, 1, 1, 1, 0,\n",
              "        0, 0, 0, 0, 1, 0, 1, 1, 1, 0, 0, 0, 0, 0, 0, 0, 1, 0, 0, 0, 1, 1,\n",
              "        0, 0, 0, 0, 1, 0, 0, 0, 1, 1, 0, 1, 0, 0, 0, 0, 1, 0, 1, 1, 1, 0,\n",
              "        0, 0, 0, 0, 0, 1, 0, 0, 0, 0, 1, 0, 0, 0, 0, 0, 0, 0, 1, 1, 0, 0,\n",
              "        0, 0, 0, 0, 0, 1, 1, 1, 0, 0, 0, 0, 0, 0, 0, 0, 1, 0, 1, 0, 0, 0,\n",
              "        0, 0, 0, 1, 0, 0, 0, 0, 0, 0, 0, 0, 0, 1, 0, 1, 0, 1, 0, 1, 1, 0,\n",
              "        0, 0, 1, 0, 1, 0, 0, 1, 0, 1, 1, 0, 1, 0, 0, 1, 1, 0, 0, 1, 0, 0,\n",
              "        1, 1, 0, 0, 0, 0, 0, 0, 1, 1, 0, 1, 0, 0, 0, 0, 0, 1, 0, 0, 0, 1,\n",
              "        0, 1, 0, 0, 1, 0, 1, 0, 0, 0, 0, 0, 1, 1, 1, 1, 1, 0, 1, 0, 0, 0]])"
            ]
          },
          "metadata": {},
          "execution_count": 41
        }
      ],
      "source": [
        "model1 = LogisticRegression1(0.01,1000,X)\n",
        "model1.train(X,Y)\n",
        "y_out1=model1.test(X_test)\n",
        "y_out1=y_out1.reshape((1,-1))\n",
        "y_out1"
      ]
    },
    {
      "cell_type": "code",
      "execution_count": 42,
      "metadata": {
        "id": "_4-lYmd4DnEQ"
      },
      "outputs": [],
      "source": [
        "\n",
        "\n",
        "with open(\"output.csv\", \"w\", newline=\"\") as file:\n",
        "    writer = csv.writer(file)\n",
        "\n",
        "    # Write the header row\n",
        "    writer.writerow([\"PassengerId\", \"Survived\"])\n",
        "\n",
        "    # Iterate over DataFrame rows\n",
        "    for index, row in df.iterrows():\n",
        "        passenger_id = row['PassengerId']\n",
        "        value = y_out1[0][index]\n",
        "\n",
        "        # Write the data row\n",
        "        writer.writerow([passenger_id, value])"
      ]
    }
  ],
  "metadata": {
    "colab": {
      "provenance": []
    },
    "kernelspec": {
      "display_name": "Python 3",
      "name": "python3"
    },
    "language_info": {
      "name": "python"
    }
  },
  "nbformat": 4,
  "nbformat_minor": 0
}